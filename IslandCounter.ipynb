{
  "nbformat": 4,
  "nbformat_minor": 0,
  "metadata": {
    "colab": {
      "name": "IslandCounter",
      "version": "0.3.2",
      "provenance": [],
      "collapsed_sections": [],
      "include_colab_link": true
    },
    "kernelspec": {
      "name": "python3",
      "display_name": "Python 3"
    }
  },
  "cells": [
    {
      "cell_type": "markdown",
      "metadata": {
        "id": "view-in-github",
        "colab_type": "text"
      },
      "source": [
        "<a href=\"https://colab.research.google.com/github/YashMaster/Colab/blob/master/IslandCounter.ipynb\" target=\"_parent\"><img src=\"https://colab.research.google.com/assets/colab-badge.svg\" alt=\"Open In Colab\"/></a>"
      ]
    },
    {
      "cell_type": "code",
      "metadata": {
        "id": "c4Mwij8R5zR3",
        "colab_type": "code",
        "outputId": "c59862af-e586-4f65-b361-358bc606f76e",
        "colab": {
          "base_uri": "https://localhost:8080/",
          "height": 136
        }
      },
      "source": [
        "\n",
        "def isIsland(paddedGrid, x, y):\n",
        "    gridValue = paddedGrid[x][y]\n",
        "    paddedGrid[x][y] = 0 #-1;\n",
        "    if (gridValue == 1):\n",
        "        isIsland(paddedGrid, x-1, y) #<-- This line isn't actually necessary\n",
        "        isIsland(paddedGrid, x+1, y)\n",
        "        isIsland(paddedGrid, x, y-1) #<-- This line isn't actually necessary\n",
        "        isIsland(paddedGrid, x, y+1)\n",
        "        return True\n",
        "    return False\n",
        "\n",
        "\n",
        "def countIslands(grid):\n",
        "    islandCount = 0\n",
        "    xLen, yLen = len(grid), len(grid[0])\n",
        "    paddedGrid = [ [0] * (yLen+2) for _ in range(xLen+2)]\n",
        "\n",
        "    for x in range(0, xLen):\n",
        "        for y in range(0, yLen):\n",
        "            paddedGrid[x+1][y+1] = grid[x][y]\n",
        "    \n",
        "    for x in range(0, xLen):\n",
        "        for y in range(0, yLen):\n",
        "            if(isIsland(paddedGrid, x+1, y+1)):\n",
        "                islandCount = islandCount + 1\n",
        "            \n",
        "    return islandCount\n",
        "\n",
        "test =([\n",
        "        [1,1,1,1,0], \n",
        "        [1,1,0,1,0], \n",
        "        [1,1,0,0,0], \n",
        "        [0,0,0,0,0]])\n",
        "print(\"ActualIslands::CountedIslands -->\", 1, \"::\", countIslands(test))\n",
        "\n",
        "test =([\n",
        "        [1,1,0,0,0], \n",
        "        [1,1,0,0,0], \n",
        "        [0,0,1,0,0], \n",
        "        [0,0,0,1,1]])\n",
        "print(\"ActualIslands::CountedIslands -->\", 3, \"::\", countIslands(test))\n",
        "\n",
        "test =([\n",
        "        [1,1,0,0,0], \n",
        "        [1,0,0,0,0], \n",
        "        [0,0,1,0,0], \n",
        "        [0,0,1,1,1]])\n",
        "print(\"ActualIslands::CountedIslands -->\", 2, \"::\", countIslands(test))\n",
        "\n",
        "test =([\n",
        "        [1,1,1,1,1], \n",
        "        [1,1,1,1,1], \n",
        "        [1,1,1,1,1], \n",
        "        [1,1,1,1,1]])\n",
        "print(\"ActualIslands::CountedIslands -->\", 1, \"::\", countIslands(test))\n",
        "\n",
        "test =([\n",
        "        [0,0,0,0,0], \n",
        "        [0,0,0,0,0], \n",
        "        [0,0,0,0,0], \n",
        "        [0,0,0,0,0]])\n",
        "print(\"ActualIslands::CountedIslands -->\", 0, \"::\", countIslands(test))\n",
        "\n",
        "test =([\n",
        "        [0,1,0,0,0], \n",
        "        [1,1,0,0,0], \n",
        "        [0,0,1,0,0], \n",
        "        [0,0,0,1,0]])\n",
        "print(\"ActualIslands::CountedIslands -->\", 3, \"::\", countIslands(test))\n",
        "\n",
        "test =([\n",
        "        [1,1,0,0,0], \n",
        "        [1,1,0,0,0], \n",
        "        [0,0,1,0,0], \n",
        "        [0,0,0,1,1]])\n",
        "print(\"ActualIslands::CountedIslands -->\", 3, \"::\", countIslands(test))\n",
        "\n",
        "\n"
      ],
      "execution_count": 42,
      "outputs": [
        {
          "output_type": "stream",
          "text": [
            "ActualIslands::CountedIslands --> 1 :: 1\n",
            "ActualIslands::CountedIslands --> 3 :: 3\n",
            "ActualIslands::CountedIslands --> 2 :: 2\n",
            "ActualIslands::CountedIslands --> 1 :: 1\n",
            "ActualIslands::CountedIslands --> 0 :: 0\n",
            "ActualIslands::CountedIslands --> 3 :: 3\n",
            "ActualIslands::CountedIslands --> 3 :: 3\n"
          ],
          "name": "stdout"
        }
      ]
    }
  ]
}